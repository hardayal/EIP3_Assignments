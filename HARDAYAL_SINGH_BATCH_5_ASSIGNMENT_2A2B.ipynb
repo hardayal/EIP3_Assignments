{
  "nbformat": 4,
  "nbformat_minor": 0,
  "metadata": {
    "colab": {
      "name": "HARDAYAL_SINGH_BATCH_5_ASSIGNMENT_2A2B.ipynb",
      "version": "0.3.2",
      "provenance": [],
      "collapsed_sections": []
    },
    "kernelspec": {
      "name": "python3",
      "display_name": "Python 3"
    }
  },
  "cells": [
    {
      "metadata": {
        "id": "3eMLj5m7jmZi",
        "colab_type": "text"
      },
      "cell_type": "markdown",
      "source": [
        "#ASSIGNMENT 2A#"
      ]
    },
    {
      "metadata": {
        "id": "HTsJGU_uhlKt",
        "colab_type": "text"
      },
      "cell_type": "markdown",
      "source": [
        "#Backpropagation Step by Step#\n",
        "\n",
        "\n",
        "If you are building your own neural network, you will definitely need to understand how to train it. \n",
        "Backpropagation is a commonly used technique for training neural network. \n",
        "There are many resources explaining the technique, but this post will explain backpropagation with concrete example in a very detailed colorful steps.\n",
        "\n",
        "##Overview##\n",
        "\n",
        "In this post, we will build a neural network with three layers:\n",
        "\n",
        "Input layer with two inputs neurons.\n",
        "\n",
        "One hidden layer with two neurons.\n",
        "\n",
        "Output layer with a single neuron\n",
        "\n",
        "![Image](http://hmkcode.github.io/images/ai/nn1.png)\n",
        "\n",
        "\n",
        "##Weights, weights, weights ##\n",
        "\n",
        "Neural network training is about finding weights that minimize prediction error. We usually start our training with a set of randomly generated weights.Then, backpropagation is used to update the weights in an attempt to correctly map arbitrary inputs to outputs.\n",
        "\n",
        "Our initial weights will be as following: w1 = 0.5, w2 = 0.3, w3 = 0.2, w4 = 0.1, w5 = 0.3 and w6 = 0.4\n",
        "\n",
        "![Image2](https://github.com/hardayal/EIP3_Assignments/blob/master/Assignment_2A/Image_2.JPG?raw=true)\n",
        "\n",
        "\n",
        "\n",
        "##Dataset##\n",
        "\n",
        "Our dataset has one sample with two inputs and one output.\n",
        "\n",
        "![Image3](http://hmkcode.github.io/images/ai/bp_dataset.png)\n",
        "\n",
        "\n",
        "Our single sample is as following inputs=[2, 3] and output=[1]\n",
        "\n",
        "![Image4](http://hmkcode.github.io/images/ai/bp_sample.png)\n",
        "\n",
        "\n",
        "\n",
        "##Forward Pass##\n",
        "\n",
        "We will use given weights and inputs to predict the output. Inputs are multiplied by weights; the results are then passed forward to next layer.\n",
        "\n",
        "\n",
        "![Image5](https://github.com/hardayal/EIP3_Assignments/blob/master/Assignment_2A/Image_5.JPG?raw=true)\n",
        "\n",
        "\n",
        "##Calculating Error##\n",
        "Now, it’s time to find out how our network performed by calculating the difference between the actual output and predicted one. It’s clear that our network output, or prediction, is not even close to actual output. We can calculate the difference or the error as following.\n",
        "\n",
        "![Image6](https://github.com/hardayal/EIP3_Assignments/blob/master/Assignment_2A/Image_6.JPG?raw=true)\n",
        "\n",
        "\n",
        "\n",
        "## Reducing Error ##\n",
        "\n",
        "Our main goal of the training is to reduce the error or the difference between prediction and actual output. Since actual output is constant, “not changing”, the only way to reduce the error is to change prediction value. The question now is, how to change prediction value?\n",
        "\n",
        "By decomposing prediction into its basic elements we can find that weights are the variable elements affecting prediction value. In other words, in order to change prediction value, we need to change weights values.\n",
        "\n",
        "![Image7](http://hmkcode.github.io/images/ai/bp_prediction_elements.png)\n",
        "\n",
        "\n",
        "```\n",
        "The question now is how to change\\update the weights value so that the error is reduced?\n",
        "The answer is Backpropagation!\n",
        "```\n",
        "\n",
        "\n",
        "##Backpropagation##\n",
        "Backpropagation short for “backward propagation of errors”, is a mechanism used to update the weights using gradient descent. It calculates the gradient of the error function with respect to the neural network’s weights. The calculation proceeds backwards through the network.\n",
        "\n",
        "```\n",
        "Gradient descent is an iterative optimization algorithm for finding the minimum of a function; in our case we want to minimize th error function. To find a local minimum of a function using gradient descent, one takes steps proportional to the negative of the gradient of the function at the current point.\n",
        "```\n",
        "\n",
        "![Image8](http://hmkcode.github.io/images/ai/bp_update_formula.png)\n",
        "\n",
        "\n",
        "For example, to update ```w6``` , we take the current w6 and subtract the partial derivative of error function with respect to ```w6```. Optionally, we multiply the derivative of the error function by a selected number to make sure that the new updated weight is minimizing the error function; this number is called learning rate.\n",
        "\n",
        "\n",
        "![Image9](http://hmkcode.github.io/images/ai/bp_w6_update.png)\n",
        "\n",
        "\n",
        "\n",
        "The derivation of the error function is evaluated by applying the chain rule as following\n",
        "\n",
        "\n",
        "![Image 10](http://hmkcode.github.io/images/ai/bp_error_function_partial_derivative_w6.png)\n",
        "\n",
        "\n",
        "So to update w6 we can apply the following formula\n",
        "\n",
        "\n",
        "![Image11](http://hmkcode.github.io/images/ai/bp_w6_update_closed_form.png)\n",
        "\n",
        "Similarly, we can derive the update formula for w5 and any other weights existing between the output and the hidden layer.\n",
        "\n",
        "![Image12](http://hmkcode.github.io/images/ai/bp_w5_update_closed_form.png)\n",
        "\n",
        "However, when moving backward to update w1, w2, w3 and w4 existing between input and hidden layer, the partial derivative for the error function with respect to w1, for example, will be as following.\n",
        "\n",
        "![Image13](http://hmkcode.github.io/images/ai/bp_error_function_partial_derivative_w1.png)\n",
        "\n",
        "We can find the update formula for the remaining weights w2, w3 and w4 in the same way.\n",
        "\n",
        "In summary, the update formulas for all weights will be as following:\n",
        "\n",
        "![Image14](http://hmkcode.github.io/images/ai/bp_update_all_weights.png)\n",
        "\n",
        "We can rewrite the update formulas in matrices as following\n",
        "\n",
        "![Image15](http://hmkcode.github.io/images/ai/bp_update_all_weights_matrix.png)\n",
        "\n",
        "\n",
        "\n",
        "\n",
        "##Backward Pass##\n",
        "\n",
        "Using derived formulas we can find the new weights.\n",
        "\n",
        "``` Learning rate: is a hyperparameter which means that we need to manually guess its value. ```\n",
        "\n",
        "\n",
        "(  Delta = prediction - actual )\n",
        "$$ \\Delta = 0.85 - 1.0 = -0.15   $$\n",
        "\n",
        "(Learning rate, we smartly guess the number) \n",
        "\n",
        "$$ a=0.05 $$ \n",
        "\n",
        "\n",
        "$$ $$\n",
        "\n",
        "\n",
        "\n",
        "$$\\begin{pmatrix}W5 \\\\\\ W6 \\end{pmatrix}  =  \\begin{pmatrix}0.3 \\\\\\ 0.4 \\end{pmatrix} - 0.05 (-0.15)   \\begin{pmatrix}1.9 \\\\\\ 0.7 \\end{pmatrix}  = \\begin{pmatrix}0.3 \\\\\\ 0.4 \\end{pmatrix} - \\begin{pmatrix} -0.014 \\\\\\ -0.005 \\end{pmatrix}  =  \\begin{pmatrix}0.314 \\\\\\ 0.405 \\end{pmatrix}  $$\n",
        "\n",
        "\n",
        "$$\\begin{pmatrix}W1 & W3 \\\\\\ W2 & W4 \\end{pmatrix}  =  \\begin{pmatrix}0.5 & 0.2  \\\\\\ 0.3&0.1 \\end{pmatrix} - 0.05 (-0.15)   \\begin{pmatrix}2 \\\\\\ 3 \\end{pmatrix} .  \\begin{pmatrix} 0.3& 0.4 \\end{pmatrix}  =  \\begin{pmatrix}0.5 & 0.2  \\\\\\ 0.3&0.1 \\end{pmatrix} - \\begin{pmatrix}0.004 & 0.006  \\\\\\ 0.007&0.01 \\end{pmatrix}  = \\begin{pmatrix}0.496 & 0.194  \\\\\\ 0.293&0.09 \\end{pmatrix}$$\n",
        "\n",
        "\n",
        "Now, using the new weights we will repeat the forward passed\n",
        "\n",
        "![Image17](https://github.com/hardayal/EIP3_Assignments/blob/master/Assignment_2A/Image_17.JPG?raw=true)\n",
        "\n",
        "\n",
        "\n",
        "We can notice that the prediction 0.907 is a little bit closer to actual output than the previously predicted one 0.85. We can repeat the same process of backward and forward pass until error is close or equal to zero."
      ]
    },
    {
      "metadata": {
        "id": "QjI2vKH3hlKu",
        "colab_type": "text"
      },
      "cell_type": "markdown",
      "source": [
        "#ASSIGNMENT 2B#\n"
      ]
    },
    {
      "metadata": {
        "id": "Sc4g7l2WhlKv",
        "colab_type": "code",
        "colab": {
          "base_uri": "https://localhost:8080/",
          "height": 153
        },
        "outputId": "005efd8e-c04b-404d-b88c-e3ffa34085f7"
      },
      "cell_type": "code",
      "source": [
        "import numpy as np\n",
        "X=np.array([[2],[3]])\n",
        "print(\"X is \\n\")\n",
        "print((X))\n",
        "y=np.array([1])\n",
        "print(\"\\n y is \\n\")\n",
        "print(y)"
      ],
      "execution_count": 23,
      "outputs": [
        {
          "output_type": "stream",
          "text": [
            "X is \n",
            "\n",
            "[[2]\n",
            " [3]]\n",
            "\n",
            " y is \n",
            "\n",
            "[1]\n"
          ],
          "name": "stdout"
        }
      ]
    },
    {
      "metadata": {
        "id": "a-hYsz2phlKx",
        "colab_type": "code",
        "colab": {
          "base_uri": "https://localhost:8080/",
          "height": 68
        },
        "outputId": "0419db84-679c-4f6a-c76b-b3c753983dfd"
      },
      "cell_type": "code",
      "source": [
        "print(\"Setting initial weights w1 = 0.5, w2 = 0.3, w3 = 0.2, w4 = 0.1, w5 = 0.3 and w6 = 0.4\")\n",
        "wh1=np.array([[0.5,0.2],[0.3,0.1]], dtype=float)\n",
        "print(wh1)"
      ],
      "execution_count": 24,
      "outputs": [
        {
          "output_type": "stream",
          "text": [
            "Setting initial weights w1 = 0.5, w2 = 0.3, w3 = 0.2, w4 = 0.1, w5 = 0.3 and w6 = 0.4\n",
            "[[0.5 0.2]\n",
            " [0.3 0.1]]\n"
          ],
          "name": "stdout"
        }
      ]
    },
    {
      "metadata": {
        "id": "xrMyGcaYhlK1",
        "colab_type": "code",
        "colab": {
          "base_uri": "https://localhost:8080/",
          "height": 51
        },
        "outputId": "7515295d-441b-421a-ddba-60ac00cccd9d"
      },
      "cell_type": "code",
      "source": [
        "print(\"Hidden Layer 1..\")\n",
        "\n",
        "hidden_layer_input= X.T.dot(wh1)\n",
        "print(hidden_layer_input)"
      ],
      "execution_count": 26,
      "outputs": [
        {
          "output_type": "stream",
          "text": [
            "Hidden Layer 1..\n",
            "[[1.9 0.7]]\n"
          ],
          "name": "stdout"
        }
      ]
    },
    {
      "metadata": {
        "id": "3beSBELmhlK5",
        "colab_type": "code",
        "colab": {
          "base_uri": "https://localhost:8080/",
          "height": 68
        },
        "outputId": "0e91f279-06cc-4134-cc44-ab02db8c9f90"
      },
      "cell_type": "code",
      "source": [
        "print(\"Setting 2nd layer weights wh2,  w5 = 0.3 and w6 = 0.4\")\n",
        "wh2=np.array([[0.3],[0.4]], dtype=float)\n",
        "print(wh2)"
      ],
      "execution_count": 27,
      "outputs": [
        {
          "output_type": "stream",
          "text": [
            "Setting 2nd layer weights wh2,  w5 = 0.3 and w6 = 0.4\n",
            "[[0.3]\n",
            " [0.4]]\n"
          ],
          "name": "stdout"
        }
      ]
    },
    {
      "metadata": {
        "id": "vb8IFpfdhlK8",
        "colab_type": "code",
        "colab": {
          "base_uri": "https://localhost:8080/",
          "height": 51
        },
        "outputId": "5e0d694c-13d2-4081-8093-ad02b23e2c6b"
      },
      "cell_type": "code",
      "source": [
        "print(\"Predicted Output...\")\n",
        "forward_out= hidden_layer_input.dot(wh2)\n",
        "print(forward_out)"
      ],
      "execution_count": 28,
      "outputs": [
        {
          "output_type": "stream",
          "text": [
            "Predicted Output...\n",
            "[[0.85]]\n"
          ],
          "name": "stdout"
        }
      ]
    },
    {
      "metadata": {
        "id": "hgWRY-UThlLB",
        "colab_type": "code",
        "colab": {
          "base_uri": "https://localhost:8080/",
          "height": 51
        },
        "outputId": "3b536cc6-2735-445a-bb37-58f8e7a8716b"
      },
      "cell_type": "code",
      "source": [
        "print(\"Calculating Error..\")\n",
        "#Error=1/2 * ((forward_out - y) ^ 2)\n",
        "Error = 1/2 * (np.subtract(forward_out, y) ** 2)\n",
        "print(Error)"
      ],
      "execution_count": 29,
      "outputs": [
        {
          "output_type": "stream",
          "text": [
            "Calculating Error..\n",
            "[[0.01125]]\n"
          ],
          "name": "stdout"
        }
      ]
    },
    {
      "metadata": {
        "id": "vu5voBKuhlLF",
        "colab_type": "code",
        "colab": {
          "base_uri": "https://localhost:8080/",
          "height": 204
        },
        "outputId": "b639af5e-43ad-4c49-d197-ab5d1c66e550"
      },
      "cell_type": "code",
      "source": [
        "print(\"Backward Pass..\")\n",
        "print(\"\\n\")\n",
        "print(\"delta = prediction - actual..\")\n",
        "delta= np.subtract(forward_out, y)\n",
        "print(delta)\n",
        "print(\"\\n\")\n",
        "print(\"\\n\")\n",
        "print(\"Learning rate...\")\n",
        "a=0.05\n",
        "print(a)"
      ],
      "execution_count": 30,
      "outputs": [
        {
          "output_type": "stream",
          "text": [
            "Backward Pass..\n",
            "\n",
            "\n",
            "delta = prediction - actual..\n",
            "[[-0.15]]\n",
            "\n",
            "\n",
            "\n",
            "\n",
            "Learning rate...\n",
            "0.05\n"
          ],
          "name": "stdout"
        }
      ]
    },
    {
      "metadata": {
        "id": "EN8_kLnphlLK",
        "colab_type": "code",
        "colab": {
          "base_uri": "https://localhost:8080/",
          "height": 153
        },
        "outputId": "cf44759f-8f75-4008-ea8c-a79ff04595d6"
      },
      "cell_type": "code",
      "source": [
        "print(\"Calculating new weights..\")\n",
        "print(\"w5, w6\")\n",
        "\n",
        "tmp1 = ((a * delta) * hidden_layer_input.T)\n",
        "print(tmp1)\n",
        "#wh2_new =  np.subtract(wh2, tmp1)\n",
        "wh2_new= wh2 - tmp1\n",
        "print(\"\\n\")\n",
        "print(wh2_new)"
      ],
      "execution_count": 31,
      "outputs": [
        {
          "output_type": "stream",
          "text": [
            "Calculating new weights..\n",
            "w5, w6\n",
            "[[-0.01425]\n",
            " [-0.00525]]\n",
            "\n",
            "\n",
            "[[0.31425]\n",
            " [0.40525]]\n"
          ],
          "name": "stdout"
        }
      ]
    },
    {
      "metadata": {
        "id": "lDCszysKhlLP",
        "colab_type": "code",
        "colab": {
          "base_uri": "https://localhost:8080/",
          "height": 136
        },
        "outputId": "6905505a-6496-4388-a85c-e3f2c882e004"
      },
      "cell_type": "code",
      "source": [
        "print(\"w1, w2, w3, w4\")\n",
        "\n",
        "tmp2 = ((a * delta) * X.dot(wh2.T))\n",
        "print(tmp2)\n",
        "#wh1_new =  np.subtract(wh1, tmp2)\n",
        "wh1_new= wh1 - tmp2\n",
        "print(\"\\n\")\n",
        "print(wh1_new)"
      ],
      "execution_count": 32,
      "outputs": [
        {
          "output_type": "stream",
          "text": [
            "w1, w2, w3, w4\n",
            "[[-0.0045  -0.006  ]\n",
            " [-0.00675 -0.009  ]]\n",
            "\n",
            "\n",
            "[[0.5045  0.206  ]\n",
            " [0.30675 0.109  ]]\n"
          ],
          "name": "stdout"
        }
      ]
    },
    {
      "metadata": {
        "id": "tN_nvI_yhlLW",
        "colab_type": "code",
        "colab": {
          "base_uri": "https://localhost:8080/",
          "height": 68
        },
        "outputId": "a689df35-7ea1-43de-aa02-2f6d0d3bc1cb"
      },
      "cell_type": "code",
      "source": [
        "print(\"Now, Using the new weights we'll repeat the forward pass...\")\n",
        "print(\"Calculating 1st hidden layer values.\")\n",
        "hidden_layer_input_fw= X.T.dot(wh1_new)\n",
        "print(hidden_layer_input_fw)"
      ],
      "execution_count": 33,
      "outputs": [
        {
          "output_type": "stream",
          "text": [
            "Now, Using the new weights we'll repeat the forward pass...\n",
            "Calculating 1st hidden layer values.\n",
            "[[1.92925 0.739  ]]\n"
          ],
          "name": "stdout"
        }
      ]
    },
    {
      "metadata": {
        "id": "v_WFFuvjhlLZ",
        "colab_type": "code",
        "colab": {
          "base_uri": "https://localhost:8080/",
          "height": 51
        },
        "outputId": "5259ac3f-cb24-4923-bf04-a77f0e19f28b"
      },
      "cell_type": "code",
      "source": [
        "print(\"Calculating new output..\")\n",
        " \n",
        "forward_out_2= hidden_layer_input_fw.dot(wh2_new)\n",
        "print(forward_out_2)"
      ],
      "execution_count": 34,
      "outputs": [
        {
          "output_type": "stream",
          "text": [
            "Calculating new output..\n",
            "[[0.90574656]]\n"
          ],
          "name": "stdout"
        }
      ]
    }
  ]
}