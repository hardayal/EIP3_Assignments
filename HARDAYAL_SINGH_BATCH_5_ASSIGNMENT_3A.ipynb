{
  "nbformat": 4,
  "nbformat_minor": 0,
  "metadata": {
    "colab": {
      "name": "HARDAYAL_SINGH_BATCH_5_ASSIGNMENT_3A.ipynb",
      "version": "0.3.2",
      "provenance": [],
      "collapsed_sections": []
    },
    "kernelspec": {
      "name": "python3",
      "display_name": "Python 3"
    },
    "accelerator": "GPU"
  },
  "cells": [
    {
      "metadata": {
        "id": "0-IwfGbuYX41",
        "colab_type": "code",
        "outputId": "03f092a4-6206-401d-8f75-90190dd160fa",
        "colab": {
          "base_uri": "https://localhost:8080/",
          "height": 34
        }
      },
      "cell_type": "code",
      "source": [
        "from keras.datasets import mnist\n",
        "import keras\n",
        "import warnings\n",
        "from keras.preprocessing.image import ImageDataGenerator\n",
        "from keras.models import Sequential\n",
        "from keras.layers import Dense, Dropout, Activation, Flatten, BatchNormalization\n",
        "from keras.layers import Convolution2D, MaxPooling2D, Conv2D, SeparableConv2D\n",
        "from keras.callbacks import Callback, ModelCheckpoint      "
      ],
      "execution_count": 1,
      "outputs": [
        {
          "output_type": "stream",
          "text": [
            "Using TensorFlow backend.\n"
          ],
          "name": "stderr"
        }
      ]
    },
    {
      "metadata": {
        "id": "86xdqmoR2R4B",
        "colab_type": "code",
        "colab": {
          "base_uri": "https://localhost:8080/",
          "height": 51
        },
        "outputId": "e37236f5-68d4-43c9-f8ca-16b881a6786a"
      },
      "cell_type": "code",
      "source": [
        "num_classes = 10\n",
        "\n",
        "(x_train, y_train), (x_test, y_test) = mnist.load_data()\n",
        "img_height, img_width = x_train.shape[1],x_train.shape[2]\n",
        "\n",
        "y_train = keras.utils.to_categorical(y_train, num_classes)\n",
        "y_test = keras.utils.to_categorical(y_test, num_classes)\n",
        "\n",
        "x_train = x_train.reshape(x_train.shape[0], 28, 28, 1)\n",
        "x_test = x_test.reshape(x_test.shape[0], 28, 28, 1)\n",
        "x_train = x_train.astype('float32')\n",
        "x_test = x_test.astype('float32')\n",
        "x_train/= 255\n",
        "x_test/= 255\n",
        "  "
      ],
      "execution_count": 2,
      "outputs": [
        {
          "output_type": "stream",
          "text": [
            "Downloading data from https://s3.amazonaws.com/img-datasets/mnist.npz\n",
            "11493376/11490434 [==============================] - 1s 0us/step\n"
          ],
          "name": "stdout"
        }
      ]
    },
    {
      "metadata": {
        "id": "N-4lnF307ANr",
        "colab_type": "code",
        "colab": {
          "base_uri": "https://localhost:8080/",
          "height": 1057
        },
        "outputId": "76c424e3-95be-4acf-8d14-8e34c601a9d0"
      },
      "cell_type": "code",
      "source": [
        "model = Sequential()\n",
        "model.add(Conv2D(32, (3, 3), input_shape=(28,28,1)))\n",
        "model.add(BatchNormalization())\n",
        "model.add(Activation(\"relu\"))\n",
        "model.add(SeparableConv2D(32, 3, 3))\n",
        "model.add(BatchNormalization())\n",
        "model.add(Activation(\"relu\"))\n",
        "model.add(MaxPooling2D(pool_size=(2, 2)))\n",
        "model.add(SeparableConv2D(64, 3, 3))\n",
        "model.add(BatchNormalization())\n",
        "model.add(Activation(\"relu\"))\n",
        "model.add(Conv2D(32, 1, 1))\n",
        "model.add(SeparableConv2D(128, 3, 3))\n",
        "model.add(BatchNormalization())\n",
        "model.add(Activation(\"relu\"))\n",
        "model.add(MaxPooling2D(pool_size=(2, 2)))\n",
        "model.add(Convolution2D(10, 1))\n",
        "model.add(BatchNormalization())\n",
        "model.add(Activation(\"relu\"))\n",
        "model.add(Convolution2D(10, 4))\n",
        "\n",
        "model.add(Flatten())\n",
        "\n",
        "model.add(Activation('softmax'))\n",
        "model.compile(loss='categorical_crossentropy',\n",
        "              optimizer='adam',\n",
        "              metrics=['accuracy'])\n",
        "\n",
        "model.summary()\n"
      ],
      "execution_count": 3,
      "outputs": [
        {
          "output_type": "stream",
          "text": [
            "WARNING:tensorflow:From /usr/local/lib/python3.6/dist-packages/tensorflow/python/framework/op_def_library.py:263: colocate_with (from tensorflow.python.framework.ops) is deprecated and will be removed in a future version.\n",
            "Instructions for updating:\n",
            "Colocations handled automatically by placer.\n"
          ],
          "name": "stdout"
        },
        {
          "output_type": "stream",
          "text": [
            "/usr/local/lib/python3.6/dist-packages/ipykernel_launcher.py:5: UserWarning: Update your `SeparableConv2D` call to the Keras 2 API: `SeparableConv2D(32, (3, 3))`\n",
            "  \"\"\"\n",
            "/usr/local/lib/python3.6/dist-packages/ipykernel_launcher.py:9: UserWarning: Update your `SeparableConv2D` call to the Keras 2 API: `SeparableConv2D(64, (3, 3))`\n",
            "  if __name__ == '__main__':\n",
            "/usr/local/lib/python3.6/dist-packages/ipykernel_launcher.py:12: UserWarning: Update your `Conv2D` call to the Keras 2 API: `Conv2D(32, (1, 1))`\n",
            "  if sys.path[0] == '':\n",
            "/usr/local/lib/python3.6/dist-packages/ipykernel_launcher.py:13: UserWarning: Update your `SeparableConv2D` call to the Keras 2 API: `SeparableConv2D(128, (3, 3))`\n",
            "  del sys.path[0]\n"
          ],
          "name": "stderr"
        },
        {
          "output_type": "stream",
          "text": [
            "_________________________________________________________________\n",
            "Layer (type)                 Output Shape              Param #   \n",
            "=================================================================\n",
            "conv2d_1 (Conv2D)            (None, 26, 26, 32)        320       \n",
            "_________________________________________________________________\n",
            "batch_normalization_1 (Batch (None, 26, 26, 32)        128       \n",
            "_________________________________________________________________\n",
            "activation_1 (Activation)    (None, 26, 26, 32)        0         \n",
            "_________________________________________________________________\n",
            "separable_conv2d_1 (Separabl (None, 24, 24, 32)        1344      \n",
            "_________________________________________________________________\n",
            "batch_normalization_2 (Batch (None, 24, 24, 32)        128       \n",
            "_________________________________________________________________\n",
            "activation_2 (Activation)    (None, 24, 24, 32)        0         \n",
            "_________________________________________________________________\n",
            "max_pooling2d_1 (MaxPooling2 (None, 12, 12, 32)        0         \n",
            "_________________________________________________________________\n",
            "separable_conv2d_2 (Separabl (None, 10, 10, 64)        2400      \n",
            "_________________________________________________________________\n",
            "batch_normalization_3 (Batch (None, 10, 10, 64)        256       \n",
            "_________________________________________________________________\n",
            "activation_3 (Activation)    (None, 10, 10, 64)        0         \n",
            "_________________________________________________________________\n",
            "conv2d_2 (Conv2D)            (None, 10, 10, 32)        2080      \n",
            "_________________________________________________________________\n",
            "separable_conv2d_3 (Separabl (None, 8, 8, 128)         4512      \n",
            "_________________________________________________________________\n",
            "batch_normalization_4 (Batch (None, 8, 8, 128)         512       \n",
            "_________________________________________________________________\n",
            "activation_4 (Activation)    (None, 8, 8, 128)         0         \n",
            "_________________________________________________________________\n",
            "max_pooling2d_2 (MaxPooling2 (None, 4, 4, 128)         0         \n",
            "_________________________________________________________________\n",
            "conv2d_3 (Conv2D)            (None, 4, 4, 10)          1290      \n",
            "_________________________________________________________________\n",
            "batch_normalization_5 (Batch (None, 4, 4, 10)          40        \n",
            "_________________________________________________________________\n",
            "activation_5 (Activation)    (None, 4, 4, 10)          0         \n",
            "_________________________________________________________________\n",
            "conv2d_4 (Conv2D)            (None, 1, 1, 10)          1610      \n",
            "_________________________________________________________________\n",
            "flatten_1 (Flatten)          (None, 10)                0         \n",
            "_________________________________________________________________\n",
            "activation_6 (Activation)    (None, 10)                0         \n",
            "=================================================================\n",
            "Total params: 14,620\n",
            "Trainable params: 14,088\n",
            "Non-trainable params: 532\n",
            "_________________________________________________________________\n"
          ],
          "name": "stdout"
        }
      ]
    },
    {
      "metadata": {
        "id": "IWEgGD7t2tjq",
        "colab_type": "code",
        "colab": {}
      },
      "cell_type": "code",
      "source": [
        "class EarlyStoppingByAccuracy(Callback):\n",
        "    def __init__(self, monitor='val_acc', mode='max', value=0.98, verbose=0):\n",
        "        super(Callback, self).__init__()\n",
        "        self.monitor = monitor\n",
        "        self.value = value\n",
        "        self.verbose = verbose\n",
        "\n",
        "    def on_epoch_end(self, epoch, logs={}):\n",
        "        current = logs.get(self.monitor)\n",
        "        if current is None:\n",
        "            warnings.warn(\"Early stopping requires %s available!\" % self.monitor, RuntimeWarning)\n",
        "        \n",
        "        if current >= self.value:\n",
        "            if self.verbose > 0:\n",
        "                print(\"Epoch %05d: early stopping THR\" % epoch)\n",
        "            self.model.stop_training = True\n",
        "\n"
      ],
      "execution_count": 0,
      "outputs": []
    },
    {
      "metadata": {
        "id": "dm-_lDbX21fr",
        "colab_type": "code",
        "colab": {
          "base_uri": "https://localhost:8080/",
          "height": 496
        },
        "outputId": "65e1f068-756c-4aff-c7f7-30f2485c24a8"
      },
      "cell_type": "code",
      "source": [
        "callbacks = [\n",
        "    EarlyStoppingByAccuracy(monitor='val_acc', value=0.992, verbose=1),\n",
        "    ModelCheckpoint(filepath='/tmp/weights.hdf5', monitor='val_loss', save_best_only=True, verbose=0),\n",
        "]          \n",
        "\n",
        "\n",
        "image_gen = ImageDataGenerator(\n",
        "        rotation_range=20,\n",
        "        width_shift_range=0.1,\n",
        "        height_shift_range=0.1,\n",
        "        shear_range=0.5,\n",
        "        zoom_range=(0.9, 1.1),\n",
        "        horizontal_flip=False,\n",
        "        vertical_flip=False,\n",
        "        fill_mode='constant',\n",
        "        cval=0)\n",
        "\n",
        "\n",
        "image_gen.fit(x_train, augment=True)\n",
        "\n",
        "\n",
        "model.fit_generator(image_gen.flow(x_train, y_train, batch_size=256),\n",
        "          epochs=30,\n",
        "          steps_per_epoch=len(x_train)/(256),\n",
        "          verbose=1,\n",
        "          validation_data=(x_test, y_test),\n",
        "          callbacks=callbacks)  "
      ],
      "execution_count": 5,
      "outputs": [
        {
          "output_type": "stream",
          "text": [
            "WARNING:tensorflow:From /usr/local/lib/python3.6/dist-packages/tensorflow/python/ops/math_ops.py:3066: to_int32 (from tensorflow.python.ops.math_ops) is deprecated and will be removed in a future version.\n",
            "Instructions for updating:\n",
            "Use tf.cast instead.\n",
            "Epoch 1/30\n",
            "235/234 [==============================] - 27s 113ms/step - loss: 0.7403 - acc: 0.7972 - val_loss: 0.1638 - val_acc: 0.9643\n",
            "Epoch 2/30\n",
            "235/234 [==============================] - 22s 93ms/step - loss: 0.1755 - acc: 0.9517 - val_loss: 0.0741 - val_acc: 0.9810\n",
            "Epoch 3/30\n",
            "235/234 [==============================] - 22s 95ms/step - loss: 0.1154 - acc: 0.9660 - val_loss: 0.0477 - val_acc: 0.9860\n",
            "Epoch 4/30\n",
            "235/234 [==============================] - 22s 93ms/step - loss: 0.0936 - acc: 0.9725 - val_loss: 0.0462 - val_acc: 0.9855\n",
            "Epoch 5/30\n",
            "235/234 [==============================] - 22s 95ms/step - loss: 0.0801 - acc: 0.9754 - val_loss: 0.0486 - val_acc: 0.9847\n",
            "Epoch 6/30\n",
            "235/234 [==============================] - 22s 92ms/step - loss: 0.0714 - acc: 0.9778 - val_loss: 0.0496 - val_acc: 0.9843\n",
            "Epoch 7/30\n",
            "235/234 [==============================] - 22s 93ms/step - loss: 0.0659 - acc: 0.9802 - val_loss: 0.0469 - val_acc: 0.9855\n",
            "Epoch 8/30\n",
            "235/234 [==============================] - 22s 93ms/step - loss: 0.0605 - acc: 0.9818 - val_loss: 0.0472 - val_acc: 0.9853\n",
            "Epoch 9/30\n",
            "235/234 [==============================] - 22s 93ms/step - loss: 0.0550 - acc: 0.9830 - val_loss: 0.0312 - val_acc: 0.9903\n",
            "Epoch 10/30\n",
            "235/234 [==============================] - 22s 93ms/step - loss: 0.0547 - acc: 0.9831 - val_loss: 0.0368 - val_acc: 0.9896\n",
            "Epoch 11/30\n",
            "235/234 [==============================] - 22s 94ms/step - loss: 0.0514 - acc: 0.9843 - val_loss: 0.0257 - val_acc: 0.9921\n",
            "Epoch 00010: early stopping THR\n"
          ],
          "name": "stdout"
        },
        {
          "output_type": "execute_result",
          "data": {
            "text/plain": [
              "<keras.callbacks.History at 0x7fdb658ef198>"
            ]
          },
          "metadata": {
            "tags": []
          },
          "execution_count": 5
        }
      ]
    }
  ]
}